{
  "cells": [
    {
      "cell_type": "code",
      "execution_count": null,
      "metadata": {},
      "outputs": [],
      "source": []
    },
    {
      "cell_type": "code",
      "execution_count": null,
      "metadata": {
        "id": "J3wlNiHlsWJS"
      },
      "outputs": [],
      "source": [
        "import pandas as pd\n",
        "import numpy as np\n",
        "import matplotlib.pyplot as plt\n",
        "from sklearn.datasets import load_breast_cancer\n",
        "from sklearn.model_selection import train_test_split\n",
        "from sklearn.preprocessing import StandardScaler\n",
        "from sklearn import svm\n",
        "from sklearn.metrics import accuracy_score, recall_score, precision_score, f1_score\n",
        "from sklearn.metrics import confusion_matrix, classification_report, roc_auc_score\n",
        "from sklearn.metrics import roc_curve, auc, average_precision_score\n",
        "from sklearn.neighbors import KNeighborsClassifier\n",
        "from sklearn.tree import DecisionTreeClassifier\n",
        "from sklearn.linear_model import LogisticRegression"
      ]
    },
    {
      "cell_type": "code",
      "execution_count": null,
      "metadata": {
        "colab": {
          "base_uri": "https://localhost:8080/"
        },
        "id": "_yyJ0JGW0ol-",
        "outputId": "4ceceaf5-bcf2-4e50-d7cc-b6c408b0c052"
      },
      "outputs": [
        {
          "data": {
            "text/plain": [
              "(398, 30)"
            ]
          },
          "execution_count": 18,
          "metadata": {},
          "output_type": "execute_result"
        }
      ],
      "source": [
        "#Load dataset\n",
        "dt = load_breast_cancer()\n",
        "X = dt.data\n",
        "y = dt.target\n",
        "\n",
        "# Split the dataset into training and testing sets\n",
        "X_train, X_test, y_train, y_test = train_test_split(X, y, test_size=0.3, random_state=42)\n",
        "\n",
        "# Standardize the features\n",
        "scaler = StandardScaler()\n",
        "X_train = scaler.fit_transform(X_train)\n",
        "X_test = scaler.transform(X_test)\n",
        "\n",
        "X_train.shape"
      ]
    },
    {
      "cell_type": "code",
      "execution_count": null,
      "metadata": {
        "colab": {
          "base_uri": "https://localhost:8080/"
        },
        "id": "Hb6SAw6-099m",
        "outputId": "fa3f594c-1184-47f8-fd72-f3f69e5ecc08"
      },
      "outputs": [
        {
          "name": "stdout",
          "output_type": "stream",
          "text": [
            "Features:  ['mean radius' 'mean texture' 'mean perimeter' 'mean area'\n",
            " 'mean smoothness' 'mean compactness' 'mean concavity'\n",
            " 'mean concave points' 'mean symmetry' 'mean fractal dimension'\n",
            " 'radius error' 'texture error' 'perimeter error' 'area error'\n",
            " 'smoothness error' 'compactness error' 'concavity error'\n",
            " 'concave points error' 'symmetry error' 'fractal dimension error'\n",
            " 'worst radius' 'worst texture' 'worst perimeter' 'worst area'\n",
            " 'worst smoothness' 'worst compactness' 'worst concavity'\n",
            " 'worst concave points' 'worst symmetry' 'worst fractal dimension']\n",
            "Labels:  ['malignant' 'benign']\n"
          ]
        }
      ],
      "source": [
        "# print the names of the 13 features\n",
        "print(\"Features: \", dt.feature_names)\n",
        "\n",
        "# print the label type of cancer('malignant' 'benign')\n",
        "print(\"Labels: \", dt.target_names)\n"
      ]
    },
    {
      "cell_type": "code",
      "execution_count": null,
      "metadata": {
        "colab": {
          "base_uri": "https://localhost:8080/"
        },
        "id": "NVoTedeH1HR6",
        "outputId": "8f419b99-8339-4575-d414-d8ed4270db74"
      },
      "outputs": [
        {
          "data": {
            "text/plain": [
              "(569, 30)"
            ]
          },
          "execution_count": 20,
          "metadata": {},
          "output_type": "execute_result"
        }
      ],
      "source": [
        "# print data(feature)shape\n",
        "dt.data.shape\n"
      ]
    },
    {
      "cell_type": "code",
      "execution_count": null,
      "metadata": {
        "colab": {
          "base_uri": "https://localhost:8080/"
        },
        "id": "lRLwpUfY1bS8",
        "outputId": "1e98efe5-daa0-4782-ef19-4e0277e9cbcc"
      },
      "outputs": [
        {
          "name": "stdout",
          "output_type": "stream",
          "text": [
            "[[1.799e+01 1.038e+01 1.228e+02 1.001e+03 1.184e-01 2.776e-01 3.001e-01\n",
            "  1.471e-01 2.419e-01 7.871e-02 1.095e+00 9.053e-01 8.589e+00 1.534e+02\n",
            "  6.399e-03 4.904e-02 5.373e-02 1.587e-02 3.003e-02 6.193e-03 2.538e+01\n",
            "  1.733e+01 1.846e+02 2.019e+03 1.622e-01 6.656e-01 7.119e-01 2.654e-01\n",
            "  4.601e-01 1.189e-01]\n",
            " [2.057e+01 1.777e+01 1.329e+02 1.326e+03 8.474e-02 7.864e-02 8.690e-02\n",
            "  7.017e-02 1.812e-01 5.667e-02 5.435e-01 7.339e-01 3.398e+00 7.408e+01\n",
            "  5.225e-03 1.308e-02 1.860e-02 1.340e-02 1.389e-02 3.532e-03 2.499e+01\n",
            "  2.341e+01 1.588e+02 1.956e+03 1.238e-01 1.866e-01 2.416e-01 1.860e-01\n",
            "  2.750e-01 8.902e-02]\n",
            " [1.969e+01 2.125e+01 1.300e+02 1.203e+03 1.096e-01 1.599e-01 1.974e-01\n",
            "  1.279e-01 2.069e-01 5.999e-02 7.456e-01 7.869e-01 4.585e+00 9.403e+01\n",
            "  6.150e-03 4.006e-02 3.832e-02 2.058e-02 2.250e-02 4.571e-03 2.357e+01\n",
            "  2.553e+01 1.525e+02 1.709e+03 1.444e-01 4.245e-01 4.504e-01 2.430e-01\n",
            "  3.613e-01 8.758e-02]\n",
            " [1.142e+01 2.038e+01 7.758e+01 3.861e+02 1.425e-01 2.839e-01 2.414e-01\n",
            "  1.052e-01 2.597e-01 9.744e-02 4.956e-01 1.156e+00 3.445e+00 2.723e+01\n",
            "  9.110e-03 7.458e-02 5.661e-02 1.867e-02 5.963e-02 9.208e-03 1.491e+01\n",
            "  2.650e+01 9.887e+01 5.677e+02 2.098e-01 8.663e-01 6.869e-01 2.575e-01\n",
            "  6.638e-01 1.730e-01]\n",
            " [2.029e+01 1.434e+01 1.351e+02 1.297e+03 1.003e-01 1.328e-01 1.980e-01\n",
            "  1.043e-01 1.809e-01 5.883e-02 7.572e-01 7.813e-01 5.438e+00 9.444e+01\n",
            "  1.149e-02 2.461e-02 5.688e-02 1.885e-02 1.756e-02 5.115e-03 2.254e+01\n",
            "  1.667e+01 1.522e+02 1.575e+03 1.374e-01 2.050e-01 4.000e-01 1.625e-01\n",
            "  2.364e-01 7.678e-02]]\n",
            "[0 0 0 0 0]\n"
          ]
        }
      ],
      "source": [
        "# print the cancer data features (top 5 records)\n",
        "print(dt.data[0:5])\n",
        "# print the cancer labels (0:malignant, 1:benign)\n",
        "print(dt.target[0:5])\n"
      ]
    },
    {
      "cell_type": "code",
      "execution_count": null,
      "metadata": {
        "colab": {
          "base_uri": "https://localhost:8080/"
        },
        "id": "v0mv-AHq17LJ",
        "outputId": "65bd770d-27e8-45a1-cf88-163b1905f140"
      },
      "outputs": [
        {
          "name": "stdout",
          "output_type": "stream",
          "text": [
            "Accuracy of the SVM classifier: 0.9766081871345029\n"
          ]
        }
      ],
      "source": [
        "#Create a svm Classifier\n",
        "clf = svm.SVC(kernel='rbf',probability=True) # Linear Kernel\n",
        "\n",
        "#Train the model using the training sets\n",
        "clf.fit(X_train, y_train)\n",
        "\n",
        "#Predict the response for test dataset\n",
        "y_pred_svm = clf.predict(X_test)\n",
        "\n",
        "# Calculate the accuracy of the SVM model\n",
        "accuracy_svm = accuracy_score(y_test, y_pred_svm)\n",
        "print(\"Accuracy of the SVM classifier:\", accuracy_svm)\n",
        "\n",
        "# Calculate the probabilities for each class for the test set using SVM\n",
        "y_probs_svm= clf.predict_proba(X_test)\n",
        "\n",
        "# Compute ROC curve and AUC for SVM\n",
        "fpr_svm, tpr_svm, _ = roc_curve(y_test, y_probs_svm[:, 1])\n",
        "auc_svm = auc(fpr_svm, tpr_svm)"
      ]
    },
    {
      "cell_type": "code",
      "execution_count": null,
      "metadata": {
        "colab": {
          "base_uri": "https://localhost:8080/"
        },
        "id": "fDAsTJxnl5zp",
        "outputId": "65f1e5b5-4abf-4bdd-d69e-a27ebc0fb71e"
      },
      "outputs": [
        {
          "name": "stdout",
          "output_type": "stream",
          "text": [
            "Accuracy of the KNN classifier: 0.9590643274853801\n"
          ]
        }
      ],
      "source": [
        "# Instantiate the KNN classifier with a specified number of neighbors (e.g., 3)\n",
        "k = 5\n",
        "knn = KNeighborsClassifier(n_neighbors=k)\n",
        "\n",
        "# Train the KNN classifier\n",
        "knn.fit(X_train, y_train)\n",
        "\n",
        "# Predict the labels for the test set using KNN\n",
        "y_pred_knn = knn.predict(X_test)\n",
        "\n",
        "# Calculate the accuracy of the KNN model\n",
        "accuracy_knn = accuracy_score(y_test, y_pred_knn)\n",
        "print(\"Accuracy of the KNN classifier:\", accuracy_knn)\n",
        "\n",
        "# Calculate the probabilities for each class for the test set using KNN\n",
        "y_probs_knn = knn.predict_proba(X_test)\n",
        "\n",
        "# Compute ROC curve and AUC for KNN\n",
        "fpr_knn, tpr_knn, _ = roc_curve(y_test, y_probs_knn[:, 1])\n",
        "auc_knn = auc(fpr_knn, tpr_knn)\n"
      ]
    },
    {
      "cell_type": "code",
      "execution_count": null,
      "metadata": {
        "colab": {
          "base_uri": "https://localhost:8080/"
        },
        "id": "E2A7dcTpmCNv",
        "outputId": "dfee7a7c-2a00-4e0f-8d30-1651307b55da"
      },
      "outputs": [
        {
          "name": "stdout",
          "output_type": "stream",
          "text": [
            "Accuracy of the Decision Tree classifier: 0.9649122807017544\n"
          ]
        }
      ],
      "source": [
        "# Decision Tree classifier\n",
        "dt = DecisionTreeClassifier(criterion='entropy',max_depth=10,min_samples_split=20,min_samples_leaf=4,random_state=42)\n",
        "\n",
        "# Train the Decision Tree classifier\n",
        "dt.fit(X_train, y_train)\n",
        "\n",
        "# Predict the labels for the test set using Decision Tree\n",
        "y_pred_dt = dt.predict(X_test)\n",
        "\n",
        "# Calculate the accuracy of the Decision Tree model\n",
        "accuracy_dt = accuracy_score(y_test, y_pred_dt)\n",
        "print(\"Accuracy of the Decision Tree classifier:\", accuracy_dt)\n",
        "\n",
        "# Calculate the probabilities for each class for the test set using Decision Tree\n",
        "y_probs_dt = dt.predict_proba(X_test)\n",
        "\n",
        "# Compute ROC curve and AUC for Decision Tree\n",
        "fpr_dt, tpr_dt, _ = roc_curve(y_test, y_probs_dt[:, 1])\n",
        "auc_dt = auc(fpr_dt, tpr_dt)\n"
      ]
    },
    {
      "cell_type": "code",
      "execution_count": null,
      "metadata": {
        "colab": {
          "base_uri": "https://localhost:8080/",
          "height": 564
        },
        "id": "r7EXIeZzmLCb",
        "outputId": "98138075-7349-4621-cbcf-35a323cf6de3"
      },
      "outputs": [
        {
          "data": {
            "image/png": "[encoded data removed]",
            "text/plain": [
              "<Figure size 800x600 with 1 Axes>"
            ]
          },
          "metadata": {},
          "output_type": "display_data"
        }
      ],
      "source": [
        "# Plot ROC curves for KNN and Decision Tree on the same graph\n",
        "plt.figure(figsize=(8, 6))\n",
        "plt.plot(fpr_knn, tpr_knn, color='blue', lw=2, label='KNN (AUC = %0.3f)' % auc_knn)\n",
        "plt.plot(fpr_dt, tpr_dt, color='green', lw=2, label='Decision Tree (AUC = %0.3f)' % auc_dt)\n",
        "plt.plot(fpr_svm, tpr_svm, color='red', lw=2, label='SVM (AUC = %0.3f)'% auc_svm)\n",
        "plt.plot([0, 1], [0, 1], color='gray', lw=1, linestyle='--')\n",
        "plt.xlim([0.0, 1.05])\n",
        "plt.ylim([0.0, 1.05])\n",
        "plt.xlabel('False Positive Rate')\n",
        "plt.ylabel('True Positive Rate')\n",
        "plt.title('ROC Curve')\n",
        "plt.legend(loc=\"lower right\")\n",
        "plt.show()"
      ]
    }
  ],
  "metadata": {
    "colab": {
      "provenance": []
    },
    "kernelspec": {
      "display_name": "Python 3",
      "name": "python3"
    },
    "language_info": {
      "name": "python"
    }
  },
  "nbformat": 4,
  "nbformat_minor": 0
}
