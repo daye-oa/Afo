{
  "nbformat": 4,
  "nbformat_minor": 0,
  "metadata": {
    "colab": {
      "provenance": []
    },
    "kernelspec": {
      "name": "python3",
      "display_name": "Python 3"
    },
    "language_info": {
      "name": "python"
    }
  },
  "cells": [
    {
      "cell_type": "code",
      "execution_count": 3,
      "metadata": {
        "colab": {
          "base_uri": "https://localhost:8080/"
        },
        "id": "jigS0Rzi7WEo",
        "outputId": "2e32aeea-084d-4399-f26e-985ebcfbe201"
      },
      "outputs": [
        {
          "output_type": "stream",
          "name": "stdout",
          "text": [
            "DataFrame before handling missing values:\n",
            "   Year  company_ID  company_growth\n",
            "0  2020           1             5.2\n",
            "1  2021           1             NaN\n",
            "2  2022           1             6.1\n",
            "3  2023           1             NaN\n",
            "4  2024           1             7.5\n"
          ]
        }
      ],
      "source": [
        "import pandas as pd\n",
        "import numpy as np\n",
        "\n",
        "# Generate a sample DataFrame with missing values\n",
        "data = {\n",
        "    'Year': [2020, 2021, 2022, 2023, 2024],\n",
        "    'company_ID': [1, 1, 1, 1, 1],\n",
        "    'company_growth': [5.2, np.nan, 6.1, np.nan, 7.5]\n",
        "}\n",
        "\n",
        "df = pd.DataFrame(data)\n",
        "\n",
        "# Print the DataFrame before handling missing values\n",
        "print(\"DataFrame before handling missing values:\")\n",
        "print(df)\n",
        "\n",
        "\n"
      ]
    },
    {
      "cell_type": "code",
      "source": [
        "\n",
        "# Replace missing values with the value from the next year\n",
        "for i in range(len(df)):\n",
        "    if pd.isna(df.at[i, 'company_growth']):\n",
        "        if i < len(df) - 1:\n",
        "            df.at[i, 'company_growth'] = df.at[i + 1, 'company_growth']\n",
        "\n",
        "# Print the DataFrame after handling missing values\n",
        "print(\"\\nDataFrame after handling missing values:\")\n",
        "print(df)"
      ],
      "metadata": {
        "colab": {
          "base_uri": "https://localhost:8080/"
        },
        "id": "lczQchEu7ZF9",
        "outputId": "138c0bb4-f18a-4335-fa0b-46ff0510f47e"
      },
      "execution_count": 4,
      "outputs": [
        {
          "output_type": "stream",
          "name": "stdout",
          "text": [
            "\n",
            "DataFrame after handling missing values:\n",
            "   Year  company_ID  company_growth\n",
            "0  2020           1             5.2\n",
            "1  2021           1             6.1\n",
            "2  2022           1             6.1\n",
            "3  2023           1             7.5\n",
            "4  2024           1             7.5\n"
          ]
        }
      ]
    },
    {
      "cell_type": "code",
      "source": [
        "import pandas as pd\n",
        "import numpy as np\n",
        "\n",
        "# Generate a sample DataFrame with missing values\n",
        "data = {\n",
        "    'Year': [2020, 2021, 2022, 2023, 2024, 2020, 2021, 2022, 2023, 2024],\n",
        "    'company_ID': [1, 1, 1, 1, 1, 2, 2, 2, 2, 2],\n",
        "    'company_growth': [5.2, np.nan, 6.1, np.nan, 7.5, 4.8, 5.7, np.nan, 6.3, np.nan],\n",
        "    'interest': [0.2, 0.3, np.nan, 0.5, np.nan, 0.1, np.nan, 0.4, 0.6, 0.7]\n",
        "}\n",
        "\n",
        "df = pd.DataFrame(data)\n",
        "\n",
        "# Print the DataFrame before handling missing values\n",
        "print(\"DataFrame before handling missing values:\")\n",
        "print(df)\n",
        "\n",
        "\n"
      ],
      "metadata": {
        "colab": {
          "base_uri": "https://localhost:8080/"
        },
        "id": "UbxTDPOh7_pO",
        "outputId": "286eaa98-ccb9-4b8c-f59a-53e63ec712c0"
      },
      "execution_count": 6,
      "outputs": [
        {
          "output_type": "stream",
          "name": "stdout",
          "text": [
            "DataFrame before handling missing values:\n",
            "   Year  company_ID  company_growth  interest\n",
            "0  2020           1             5.2       0.2\n",
            "1  2021           1             NaN       0.3\n",
            "2  2022           1             6.1       NaN\n",
            "3  2023           1             NaN       0.5\n",
            "4  2024           1             7.5       NaN\n",
            "5  2020           2             4.8       0.1\n",
            "6  2021           2             5.7       NaN\n",
            "7  2022           2             NaN       0.4\n",
            "8  2023           2             6.3       0.6\n",
            "9  2024           2             NaN       0.7\n"
          ]
        }
      ]
    },
    {
      "cell_type": "code",
      "source": [
        "# Replace missing values with the value from the next year\n",
        "for company_id, group in df.groupby('company_ID'):\n",
        "    group = group.sort_values(by='Year')\n",
        "    for i in range(len(group)):\n",
        "        if pd.isna(group.iloc[i]['company_growth']):\n",
        "            if i < len(group) - 1:\n",
        "                df.loc[(df['Year'] == group.iloc[i]['Year']) & (df['company_ID'] == company_id), 'company_growth'] = group.iloc[i + 1]['company_growth']\n",
        "        if pd.isna(group.iloc[i]['interest']):\n",
        "            if i < len(group) - 1:\n",
        "                df.loc[(df['Year'] == group.iloc[i]['Year']) & (df['company_ID'] == company_id), 'interest'] = group.iloc[i + 1]['interest']\n",
        "\n",
        "# Print the DataFrame after handling missing values\n",
        "print(\"\\nDataFrame after handling missing values:\")\n",
        "print(df)"
      ],
      "metadata": {
        "colab": {
          "base_uri": "https://localhost:8080/"
        },
        "id": "rDqCS2gC8ELd",
        "outputId": "8a6d8b46-336d-4997-9efe-1cf5d7b33f54"
      },
      "execution_count": 7,
      "outputs": [
        {
          "output_type": "stream",
          "name": "stdout",
          "text": [
            "\n",
            "DataFrame after handling missing values:\n",
            "   Year  company_ID  company_growth  interest\n",
            "0  2020           1             5.2       0.2\n",
            "1  2021           1             6.1       0.3\n",
            "2  2022           1             6.1       0.5\n",
            "3  2023           1             7.5       0.5\n",
            "4  2024           1             7.5       NaN\n",
            "5  2020           2             4.8       0.1\n",
            "6  2021           2             5.7       0.4\n",
            "7  2022           2             6.3       0.4\n",
            "8  2023           2             6.3       0.6\n",
            "9  2024           2             NaN       0.7\n"
          ]
        }
      ]
    }
  ]
}