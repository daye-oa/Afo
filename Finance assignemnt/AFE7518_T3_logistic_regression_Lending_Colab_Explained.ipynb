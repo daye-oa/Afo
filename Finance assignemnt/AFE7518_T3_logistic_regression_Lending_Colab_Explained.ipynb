{
  "cells": [
    {
      "cell_type": "code",
      "execution_count": 1,
      "metadata": {
        "id": "ULwmjPl1X5uL"
      },
      "outputs": [],
      "source": [
        "# import packages\n",
        "import warnings\n",
        "warnings.filterwarnings('ignore')\n",
        "\n",
        "import pandas as pd\n",
        "import numpy as np\n",
        "\n",
        "import seaborn as sns\n",
        "import matplotlib.pyplot as plt\n",
        "\n",
        "from sklearn.linear_model import LogisticRegression\n",
        "\n",
        "from sklearn.metrics import accuracy_score, recall_score, precision_score, f1_score\n",
        "from sklearn.metrics import confusion_matrix, classification_report, roc_curve, roc_auc_score\n",
        "from sklearn.metrics import precision_recall_curve, auc, average_precision_score"
      ]
    },
    {
      "cell_type": "code",
      "execution_count": 2,
      "metadata": {
        "id": "2T1lr5rOX5uM",
        "colab": {
          "base_uri": "https://localhost:8080/"
        },
        "outputId": "a1959a10-49d7-4f54-8946-8e6bc8e44a29"
      },
      "outputs": [
        {
          "output_type": "stream",
          "name": "stdout",
          "text": [
            "   home_ownership    income    dti  fico  loan_status\n",
            "0               1   44304.0  18.47   690            0\n",
            "1               0   50000.0  29.62   735            1\n",
            "2               0   64400.0  16.68   675            1\n",
            "3               0   38500.0  33.73   660            0\n",
            "4               1  118000.0  26.66   665            1\n",
            "--------------------------------\n",
            "   home_ownership    income    dti  fico  loan_status\n",
            "0               0   25000.0  27.60   660            0\n",
            "1               0   50000.0  21.51   715            1\n",
            "2               1  100000.0   8.14   770            1\n",
            "3               0   75000.0   1.76   685            0\n",
            "4               1   78000.0  16.11   680            1\n",
            "--------------------------------\n",
            "   home_ownership    income    dti  fico  loan_status\n",
            "0               1   52400.0  24.64   665            1\n",
            "1               1  150000.0  17.04   785            1\n",
            "2               1  100000.0  20.92   710            1\n",
            "3               0   97000.0  13.11   705            1\n",
            "4               1  100000.0  24.08   685            0\n"
          ]
        }
      ],
      "source": [
        "train = pd.read_excel('/content/lendingclub_traindata.xlsx')\n",
        "validation = pd.read_excel('/content/lendingclub_valdata.xlsx')\n",
        "test = pd.read_excel('/content/lendingclub_testdata.xlsx')\n",
        "# 1 = good, 0 = default\n",
        "\n",
        "#give column names\n",
        "cols = ['home_ownership', 'income', 'dti', 'fico', 'loan_status']\n",
        "\n",
        "train.columns = validation.columns=test.columns = cols\n",
        "\n",
        "print(train.head())\n",
        "print(\"--------------------------------\")\n",
        "print (validation.head())\n",
        "print(\"--------------------------------\")\n",
        "print(test.head())\n"
      ]
    },
    {
      "cell_type": "markdown",
      "metadata": {
        "id": "7u7NDPniX5uN"
      },
      "source": [
        "The data has already been split into training set, validation set, and test set. There are 7000 instances of the training set, 3000 instances of the validation set and 2290 instances of the test set. The four features have been labeled as: home ownership, income, dti and fico."
      ]
    },
    {
      "cell_type": "code",
      "execution_count": 3,
      "metadata": {
        "id": "kAgckFrIX5uO",
        "outputId": "fb2a47a8-38cf-4569-8582-a0c8ac340b24",
        "colab": {
          "base_uri": "https://localhost:8080/"
        }
      },
      "outputs": [
        {
          "output_type": "stream",
          "name": "stdout",
          "text": [
            "   home_ownership    income    dti  fico\n",
            "0               1   52400.0  24.64   665\n",
            "1               1  150000.0  17.04   785\n",
            "2               1  100000.0  20.92   710\n",
            "3               0   97000.0  13.11   705\n",
            "4               1  100000.0  24.08   685\n"
          ]
        }
      ],
      "source": [
        "# remove target column to create feature only dataset\n",
        "X_train = train.drop('loan_status', 1) \n",
        "# The 1 argument passed to the drop method indicates that we want to drop a column \n",
        "#(as opposed to a row, which would be indicated by passing 0).\n",
        "X_val = validation.drop('loan_status', 1)\n",
        "X_test = test.drop('loan_status', 1)\n",
        "\n",
        "print(X_test.head())\n"
      ]
    },
    {
      "cell_type": "code",
      "source": [
        "# Scale data using the mean and standard deviation of the training set. \n",
        "# This is not necessary for the simple logistic regression we will do here \n",
        "# but should be done if L1 or L2 regrularization is carried out\n",
        "X_train= (X_train - X_train.mean())/X_train.std()\n",
        "X_val= (X_val-X_val.mean())/X_val.std()\n",
        "X_test=(X_test-X_test.mean())/X_test.std()\n",
        "\n",
        "# store target column as y-variables \n",
        "y_train = train['loan_status']\n",
        "y_val = validation['loan_status']\n",
        "y_test = test['loan_status']\n",
        "\n",
        "#print first five instances for each data set\n",
        "\n",
        "print(X_train.head())\n",
        "print(\"--------------------------------\")\n",
        "print(X_val.head())\n",
        "print(\"--------------------------------\")\n",
        "print(X_test.head())\n",
        "\n",
        "print(X_train.shape, y_train.shape, X_val.shape,y_val.shape, X_test.shape, y_test.shape)\n",
        "X_train.columns"
      ],
      "metadata": {
        "colab": {
          "base_uri": "https://localhost:8080/"
        },
        "id": "67pk1ryw7UhP",
        "outputId": "713f9edf-c118-40fa-fac0-b3944d25e751"
      },
      "execution_count": 4,
      "outputs": [
        {
          "output_type": "stream",
          "name": "stdout",
          "text": [
            "   home_ownership    income       dti      fico\n",
            "0        0.809651 -0.556232  0.053102 -0.163701\n",
            "1       -1.234923 -0.451393  1.307386  1.262539\n",
            "2       -1.234923 -0.186349 -0.148259 -0.639114\n",
            "3       -1.234923 -0.663060  1.769728 -1.114527\n",
            "4        0.809651  0.800204  0.974410 -0.956056\n",
            "--------------------------------\n",
            "   home_ownership    income       dti      fico\n",
            "0       -1.263673 -1.038003  1.168903 -1.154998\n",
            "1       -1.263673 -0.519708  0.436285  0.620680\n",
            "2        0.791080  0.516883 -1.172105  2.396358\n",
            "3       -1.263673 -0.001412 -1.939610 -0.347871\n",
            "4        0.791080  0.060783 -0.213326 -0.509297\n",
            "--------------------------------\n",
            "   home_ownership    income       dti      fico\n",
            "0        0.829753 -0.433367  0.838798 -0.978248\n",
            "1        0.829753  1.257596 -0.078113  2.791260\n",
            "2        0.829753  0.391324  0.389994  0.435318\n",
            "3       -1.204652  0.339347 -0.552252  0.278255\n",
            "4        0.829753  0.391324  0.771236 -0.349996\n",
            "(7000, 4) (7000,) (3000, 4) (3000,) (2290, 4) (2290,)\n"
          ]
        },
        {
          "output_type": "execute_result",
          "data": {
            "text/plain": [
              "Index(['home_ownership', 'income', 'dti', 'fico'], dtype='object')"
            ]
          },
          "metadata": {},
          "execution_count": 4
        }
      ]
    },
    {
      "cell_type": "code",
      "execution_count": 5,
      "metadata": {
        "id": "GtqUIKdvX5uP",
        "outputId": "5a083267-595c-4f3b-e19c-5f82ae968304",
        "colab": {
          "base_uri": "https://localhost:8080/"
        }
      },
      "outputs": [
        {
          "output_type": "execute_result",
          "data": {
            "text/plain": [
              "1    79.171429\n",
              "0    20.828571\n",
              "Name: loan_status, dtype: float64"
            ]
          },
          "metadata": {},
          "execution_count": 5
        }
      ],
      "source": [
        "freq = y_train.value_counts()           # value_counts() counts frequency of different classes in training swet\n",
        "freq/sum(freq)*100                      # get percentage of above"
      ]
    },
    {
      "cell_type": "code",
      "execution_count": 6,
      "metadata": {
        "id": "GHaOMS7uX5uP",
        "colab": {
          "base_uri": "https://localhost:8080/"
        },
        "outputId": "8628e2c9-01a2-475d-eaf9-8aa0165fe606"
      },
      "outputs": [
        {
          "output_type": "stream",
          "name": "stdout",
          "text": [
            "[1.4162429] [[ 0.14531037  0.03366005 -0.32404502  0.36315462]]\n"
          ]
        }
      ],
      "source": [
        "#Create a logistic regression model with the following settings:\n",
        "\n",
        "lgstc_reg = LogisticRegression(penalty=\"none\",solver=\"newton-cg\")  \n",
        "\n",
        "## penalty=\"none\": This parameter sets the type of regularization penalty used in the logistic regression model. \n",
        "# Here, \"none\" indicates that no penalty will be applied, which means that the model will use standard logistic regression \n",
        "# without any regularization (L1 (Lasso) & L2 (Ridge)).\n",
        "\n",
        "### solver=\"newton-cg\": This parameter sets the optimization algorithm used to fit the logistic regression model. \n",
        "# Here, \"newton-cg\" indicates that the model will use the Newton-Conjugate-Gradient optimization algorithm, \n",
        "# which is a method for finding the maximum of the log-likelihood function in logistic regression.\n",
        "\n",
        "# Fit logististic regression to training set\n",
        "\n",
        "lgstc_reg.fit(X_train,y_train)\n",
        "\n",
        "print(lgstc_reg.intercept_ ,lgstc_reg.coef_)\n"
      ]
    },
    {
      "cell_type": "markdown",
      "metadata": {
        "id": "EaYNMagYX5uP"
      },
      "source": [
        "When used on scaled data the model has a bias of 1.416 and coefficients of 0.145, 0.034, -0.324 and 0.363. We now test the model on the validation set."
      ]
    },
    {
      "cell_type": "code",
      "execution_count": 11,
      "metadata": {
        "id": "kMlQnbt-X5uP",
        "colab": {
          "base_uri": "https://localhost:8080/"
        },
        "outputId": "03af2976-6647-45fe-9c74-d252343e65ef"
      },
      "outputs": [
        {
          "output_type": "stream",
          "name": "stdout",
          "text": [
            "0       0\n",
            "1       1\n",
            "2       1\n",
            "3       0\n",
            "4       1\n",
            "       ..\n",
            "6995    1\n",
            "6996    1\n",
            "6997    1\n",
            "6998    0\n",
            "6999    1\n",
            "Name: loan_status, Length: 7000, dtype: int64\n"
          ]
        },
        {
          "output_type": "execute_result",
          "data": {
            "text/plain": [
              "array([[0.19177543, 0.80822457],\n",
              "       [0.22158616, 0.77841384],\n",
              "       [0.25990378, 0.74009622],\n",
              "       ...,\n",
              "       [0.15340485, 0.84659515],\n",
              "       [0.31304433, 0.68695567],\n",
              "       [0.19166666, 0.80833334]])"
            ]
          },
          "metadata": {},
          "execution_count": 11
        }
      ],
      "source": [
        "# y_train_pred, y_val_pred, and y_test_pred are the predicted probabilities for the training set\n",
        "# validation set and test set using the fitted logistic regression model\n",
        "\n",
        "y_train_pred=lgstc_reg.predict_proba(X_train)\n",
        "y_val_pred=lgstc_reg.predict_proba(X_val)\n",
        "y_test_pred=lgstc_reg.predict_proba(X_test)\n",
        "\n",
        "print(y_train)\n",
        "y_train_pred"
      ]
    },
    {
      "cell_type": "code",
      "source": [
        "# Calculate maximum likelihood for training set, validation set, and test set\n",
        "\n",
        "mle_vector_train = np.log(np.where(y_train == 1, y_train_pred[:,1], y_train_pred[:,0]))\n",
        "###** y_train: This is a 1D array containing the true binary labels for the training set, \n",
        "# where 1 indicates a positive class (e.g., \"default\") and 0 indicates a negative class (e.g., \"no default\").\n",
        "\n",
        "#** y_train_pred: This is a 2D array containing the predicted probabilities for the training set, \n",
        "# output by the logistic regression model. The first column represents the predicted probability for the negative class, \n",
        "# and the second column represents the predicted probability for the positive class.\n",
        "\n",
        "#**np.where(y_train == 1, y_train_pred[:,1], y_train_pred[:,0]): This is a NumPy array that applies a condition \n",
        "#to y_train and selects the corresponding value from y_train_pred for each instance in the training set. \n",
        "#Specifically, it selects the second column (y_train_pred[:,1]) for instances where y_train is 1 \n",
        "# (i.e., the positive class), and it selects the first column (y_train_pred[:,0]) for instances where y_train is 0\n",
        "# (i.e., the negative class). This creates a 1D array of predicted probabilities for the positive class only.\n",
        "\n",
        "## np.log(): This is a NumPy function that takes the natural logarithm of each element in the input array.\n",
        "\n",
        "## mle_vector_train: This is a 1D array containing the MLE of the model parameters for the logistic regression model,\n",
        "# using the training set data. \n",
        "mle_vector_val = np.log(np.where(y_val == 1, y_val_pred[:,1], y_val_pred[:,0]))\n",
        "mle_vector_test = np.log(np.where(y_test == 1,y_test_pred[:,1],y_test_pred[:,0]))\n",
        "\n",
        "# Calculate cost functions from maximum likelihoods\n",
        "\n",
        "cost_function_training=np.negative(np.sum(mle_vector_train)/len(y_train))\n",
        "cost_function_val =np.negative(np.sum(mle_vector_val)/len(y_val))\n",
        "cost_function_test = np.negative(np.sum(mle_vector_test)/len(y_test))\n",
        "\n",
        "print('cost function training set =', cost_function_training)\n",
        "print('cost function validation set =', cost_function_val)\n",
        "print('cost function test set =', cost_function_test)"
      ],
      "metadata": {
        "colab": {
          "base_uri": "https://localhost:8080/"
        },
        "id": "CcPUkK22-l0j",
        "outputId": "caab6b47-3549-42e5-abe8-924ed8c3e460"
      },
      "execution_count": 12,
      "outputs": [
        {
          "output_type": "stream",
          "name": "stdout",
          "text": [
            "cost function training set = 0.49111143543170926\n",
            "cost function validation set = 0.4859139738776364\n",
            "cost function test set = 0.4842799376359875\n"
          ]
        }
      ]
    },
    {
      "cell_type": "markdown",
      "metadata": {
        "id": "hA8eAsdeX5uQ"
      },
      "source": [
        "<br> \n",
        "An analyst must decide on a criterion for predicting whether loan will be good or default. This involves specifying a threshold By default this threshold is set to 0.5, i.e., loans are separated into good and bad categories according to whether the probability of no default is greater or less than 0.5. However this does not work well for an imbalanced data set such as this. It would predict that all loans are good! We will look at the results for few other thresholds. \n",
        "\n"
      ]
    },
    {
      "cell_type": "code",
      "execution_count": 13,
      "metadata": {
        "id": "6bMo09bZX5uQ",
        "outputId": "d27e8f51-e6cd-4a9b-be85-a72cfa066081",
        "colab": {
          "base_uri": "https://localhost:8080/"
        }
      },
      "outputs": [
        {
          "output_type": "stream",
          "name": "stdout",
          "text": [
            "Confusion matrix for threshold = 0.75\n",
            "[[59.6069869  19.56331878]\n",
            " [11.48471616  9.34497817]]\n",
            " \n",
            "Confusion matrix for threshold = 0.8\n",
            "[[42.18340611 36.98689956]\n",
            " [ 6.20087336 14.62882096]]\n",
            " \n",
            "Confusion matrix for threshold = 0.85\n",
            "[[22.05240175 57.11790393]\n",
            " [ 2.88209607 17.94759825]]\n",
            " \n",
            "ALL METRICS\n",
            "                       0         1         2\n",
            "THRESHOLD           0.75       0.8      0.85\n",
            "accuracy         0.68952  0.568122       0.4\n",
            "true pos rate   0.752896  0.532819  0.278544\n",
            "true neg rate   0.448637  0.702306  0.861635\n",
            "false pos rate  0.551363  0.297694  0.138365\n",
            "precision       0.838452  0.871841  0.884413\n",
            "f-score         0.793374  0.661417  0.423658\n"
          ]
        }
      ],
      "source": [
        "## This code is performing a binary classification analysis using logistic regression and calculating several \n",
        "# performance metrics for different probability thresholds. Here is a line-by-line explanation:\n",
        "\n",
        "# A list of three probability thresholds is defined.\n",
        "THRESHOLD = [.75, .80, .85]\n",
        "# Create dataframe to store resultd: A pandas DataFrame is created to store the results of the analysis. \n",
        "results = pd.DataFrame(columns=[\"THRESHOLD\", \"accuracy\", \"true pos rate\", \"true neg rate\", \"false pos rate\", \"precision\", \"f-score\"]) # df to store results\n",
        "\n",
        "# The values of THRESHOLD are assigned to the \"THRESHOLD\" column of the results DataFrame.\n",
        "results['THRESHOLD'] = THRESHOLD                                                                         \n",
        "             \n",
        "j = 0  # A counter variable is set to zero.                                                                                                    \n",
        "\n",
        "# Iterate over the 3 thresholds\n",
        "\n",
        "for i in THRESHOLD: #  A loop is initiated that will iterate over the three probability thresholds.                                                                                    \n",
        "    \n",
        "    \n",
        "    #lgstc_reg.fit(X_train, y_train)                                                                    \n",
        "    \n",
        "    \n",
        "    # If prob for test set > threshold predict 1\n",
        "    preds = np.where(lgstc_reg.predict_proba(X_test)[:,1] > i, 1, 0)                                      \n",
        "    \n",
        "    \n",
        "    # create confusion matrix using confusion_matrix from sklearn\n",
        "    # A confusion matrix is calculated using confusion_matrix from scikit-learn. \n",
        "    # The \"y_test\" labels and the \"preds\" predictions are used as inputs.\n",
        "    # The labels for the positive and negative class are specified using the labels parameter.\n",
        "    cm = (confusion_matrix(y_test, preds,labels=[1, 0], sample_weight=None) / len(y_test))*100                \n",
        "    \n",
        "    print('Confusion matrix for threshold =',i) # The current threshold i is printed to the console.\n",
        "    print(cm) # The confusion matrix cm is printed to the console.\n",
        "    print(' ') # An empty line is printed to the console.      \n",
        "    \n",
        "    TP = cm[0][0] # The number of true positives is extracted from the confusion matrix cm                                                                                  \n",
        "    FN = cm[0][1] # The number of false negatives is extracted from the confusion matrix cm                                                                                       \n",
        "    FP = cm[1][0] # The number of false positives is extracted from the confusion matrix cm.                                                                                       \n",
        "    TN = cm[1][1] # The number of true negatives is extracted from the confusion matrix cm.                                                                                        \n",
        "        \n",
        "    results.iloc[j,1] = accuracy_score(y_test, preds)  # The accuracy score of the predictions is calculated using accuracy_score from scikit-learn and stored in the \"accuracy\" column of the results DataFrame at the current index j.\n",
        "    results.iloc[j,2] = recall_score(y_test, preds) # The recall score (i.e., true positive rate) of the predictions is calculated using recall_score from scikit-learn and stored in the \"true pos rate\" column of the results DataFrame at the current index j.\n",
        "    results.iloc[j,3] = TN/(FP+TN)                                                                        \n",
        "    results.iloc[j,4] = FP/(FP+TN)                                                                        \n",
        "    results.iloc[j,5] = precision_score(y_test, preds)\n",
        "    results.iloc[j,6] = f1_score(y_test, preds)\n",
        "   \n",
        "   \n",
        "    j += 1\n",
        "\n",
        "print('ALL METRICS')\n",
        "print( results.T)\n",
        "\n",
        "    \n",
        "    \n",
        "   "
      ]
    },
    {
      "cell_type": "markdown",
      "metadata": {
        "id": "zJUXLwC5X5uR"
      },
      "source": [
        "<br>\n",
        "This table shows that there is a trade off betwee the true positive rate and the false positive rate.  \n",
        "We can improve the percentage of good loans we identify only by increasing the percentage of bad that are misclassified.\n",
        "The receiver operating curve (ROC) captures this trade off by considering different thresholds."
      ]
    },
    {
      "cell_type": "code",
      "execution_count": null,
      "metadata": {
        "id": "V6vViPFcX5uR",
        "outputId": "985e8cc4-e054-40b9-f1c0-eb182f002cec"
      },
      "outputs": [
        {
          "name": "stdout",
          "output_type": "stream",
          "text": [
            "AUC random predictions = 0.5\n",
            "AUC predictions from logistic regression model = 0.6577628841779786\n"
          ]
        },
        {
          "data": {
            "image/png": "[encoded data removed]",
            "text/plain": [
              "<Figure size 432x288 with 1 Axes>"
            ]
          },
          "metadata": {
            "needs_background": "light"
          },
          "output_type": "display_data"
        }
      ],
      "source": [
        "# Calculate the receiver operating curve and the AUC measure\n",
        "\n",
        "lr_prob=lgstc_reg.predict_proba(X_test)\n",
        "lr_prob=lr_prob[:, 1] # This code extracts the predicted probabilities of the \n",
        "# positive class from the lr_prob variable. The predicted probabilities are stored \n",
        "# in the same lr_prob variable.\n",
        "ns_prob=[0 for _ in range(len(y_test))]\n",
        "# This code creates a list of 0s with the same length as the test set (y_test). \n",
        "# This list represents the predicted probabilities of the positive class for a \n",
        "# random prediction model.\n",
        "ns_auc=roc_auc_score(y_test, ns_prob)\n",
        "# This code calculates the Area Under the ROC Curve (AUC) for the random \n",
        "# prediction model, using the true labels (y_test) and the predicted probabilities (ns_prob). \n",
        "# The AUC score is stored in the ns_auc variable.\n",
        "lr_auc=roc_auc_score(y_test,lr_prob)\n",
        "# This code calculates the AUC for the logistic regression model, using the \n",
        "# true labels (y_test) and the predicted probabilities (lr_prob). \n",
        "# The AUC score is stored in the lr_auc variable.\n",
        "print(\"AUC random predictions =\", ns_auc)\n",
        "print(\"AUC predictions from logistic regression model =\", lr_auc)\n",
        "ns_fpr,ns_tpr,_=roc_curve(y_test,ns_prob)\n",
        "# This code calculates the False Positive Rate (FPR) and True Positive Rate (TPR)\n",
        "# for the random prediction model, using the true labels (y_test) and the predicted probabilities (ns_prob). \n",
        "# The FPR, TPR, and thresholds are stored in the ns_fpr, ns_tpr, and _ variables, respectively.\n",
        "lr_fpr,lr_tpr,_=roc_curve(y_test,lr_prob)\n",
        "# This code calculates the FPR and TPR for the logistic regression model, using \n",
        "# the true labels (y_test) and the predicted probabilities (lr_prob). \n",
        "# The FPR, TPR, and thresholds are stored in the lr_fpr, lr_tpr, and _ variables, respectively.\n",
        "# The roc_curve() function returns three arrays:\n",
        "# The first array (lr_fpr) represents the false positive rate at each threshold.\n",
        "# The second array (lr_tpr) represents the true positive rate at each threshold.\n",
        "# The third array represents the thresholds.\n",
        "# Since we only need the first two arrays in this code line, we use the underscore (_) \n",
        "# as a placeholder for the third array that we don't need. This is a common convention \n",
        "# in Python to indicate that a particular variable is not needed.\n",
        "plt.plot(ns_fpr,ns_tpr,linestyle='--',label='Random Predction')\n",
        "plt.plot(lr_fpr,lr_tpr,marker='.',label='Logistic Regression')\n",
        "plt.xlabel('False Positive Rate')\n",
        "plt.ylabel('True Positive Rate')\n",
        "plt.legend()\n",
        "plt.show()"
      ]
    }
  ],
  "metadata": {
    "kernelspec": {
      "display_name": "Python 3 (ipykernel)",
      "language": "python",
      "name": "python3"
    },
    "language_info": {
      "codemirror_mode": {
        "name": "ipython",
        "version": 3
      },
      "file_extension": ".py",
      "mimetype": "text/x-python",
      "name": "python",
      "nbconvert_exporter": "python",
      "pygments_lexer": "ipython3",
      "version": "3.8.7"
    },
    "colab": {
      "provenance": []
    }
  },
  "nbformat": 4,
  "nbformat_minor": 0
}