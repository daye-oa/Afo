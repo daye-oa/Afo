{
 "cells": [
  {
   "cell_type": "code",
   "execution_count": 2,
   "metadata": {},
   "outputs": [],
   "source": [
    "import pandas as pd\n",
    "import numpy as np"
   ]
  },
  {
   "cell_type": "code",
   "execution_count": 30,
   "metadata": {},
   "outputs": [],
   "source": [
    "# Load the data using pandas\n",
    "\n",
    "df = pd.read_excel('C:/Users/dayeo/Documents/GitHub/Afo/Finance assignemnt/Coursework_DATA.xls', sheet_name='Sheet1')"
   ]
  },
  {
   "cell_type": "code",
   "execution_count": 31,
   "metadata": {},
   "outputs": [
    {
     "data": {
      "text/html": [
       "<div>\n",
       "<style scoped>\n",
       "    .dataframe tbody tr th:only-of-type {\n",
       "        vertical-align: middle;\n",
       "    }\n",
       "\n",
       "    .dataframe tbody tr th {\n",
       "        vertical-align: top;\n",
       "    }\n",
       "\n",
       "    .dataframe thead th {\n",
       "        text-align: right;\n",
       "    }\n",
       "</style>\n",
       "<table border=\"1\" class=\"dataframe\">\n",
       "  <thead>\n",
       "    <tr style=\"text-align: right;\">\n",
       "      <th></th>\n",
       "      <th>id</th>\n",
       "      <th>dscode</th>\n",
       "      <th>Year</th>\n",
       "      <th>LagExcessReturn</th>\n",
       "      <th>CASH</th>\n",
       "      <th>INVENTORIES</th>\n",
       "      <th>CURRENT_ASSETS</th>\n",
       "      <th>PROPERTY_PLANT_EQUIPMENT</th>\n",
       "      <th>TOTAL_INTANGIBLE</th>\n",
       "      <th>TOTAL_ASSETS</th>\n",
       "      <th>...</th>\n",
       "      <th>OPERATING_INCOME</th>\n",
       "      <th>INTEREST_EXPENSE_ON_DEBT</th>\n",
       "      <th>EBIT</th>\n",
       "      <th>PRETAX_INCOME</th>\n",
       "      <th>INCOME_TAXES</th>\n",
       "      <th>NET_INCOME_BEFORE_EXTRA_ITEMS</th>\n",
       "      <th>NET_INCOME_AVAILABLE_TO_COMMON</th>\n",
       "      <th>OPERATING_CASH_FLOW</th>\n",
       "      <th>MARKET_VALUE</th>\n",
       "      <th>EBTDA</th>\n",
       "    </tr>\n",
       "  </thead>\n",
       "  <tbody>\n",
       "    <tr>\n",
       "      <th>0</th>\n",
       "      <td>505</td>\n",
       "      <td>27947W</td>\n",
       "      <td>2013</td>\n",
       "      <td>-0.035987</td>\n",
       "      <td>107505.0</td>\n",
       "      <td>0.0</td>\n",
       "      <td>117515.0</td>\n",
       "      <td>388.0</td>\n",
       "      <td>597.0</td>\n",
       "      <td>119712</td>\n",
       "      <td>...</td>\n",
       "      <td>-12566</td>\n",
       "      <td>0.0</td>\n",
       "      <td>-9639.0</td>\n",
       "      <td>-9639</td>\n",
       "      <td>0</td>\n",
       "      <td>-9639</td>\n",
       "      <td>-9639</td>\n",
       "      <td>-7468</td>\n",
       "      <td>43710.0</td>\n",
       "      <td>-9370.0</td>\n",
       "    </tr>\n",
       "    <tr>\n",
       "      <th>1</th>\n",
       "      <td>778</td>\n",
       "      <td>29262P</td>\n",
       "      <td>2013</td>\n",
       "      <td>1.580063</td>\n",
       "      <td>10284.0</td>\n",
       "      <td>0.0</td>\n",
       "      <td>23615.0</td>\n",
       "      <td>72.0</td>\n",
       "      <td>11571.0</td>\n",
       "      <td>35257</td>\n",
       "      <td>...</td>\n",
       "      <td>-1579</td>\n",
       "      <td>77.0</td>\n",
       "      <td>-1043.0</td>\n",
       "      <td>-1120</td>\n",
       "      <td>-174</td>\n",
       "      <td>-946</td>\n",
       "      <td>-946</td>\n",
       "      <td>97</td>\n",
       "      <td>5390.0</td>\n",
       "      <td>-1090.0</td>\n",
       "    </tr>\n",
       "    <tr>\n",
       "      <th>2</th>\n",
       "      <td>1037</td>\n",
       "      <td>30463C</td>\n",
       "      <td>2013</td>\n",
       "      <td>-0.894205</td>\n",
       "      <td>5553.0</td>\n",
       "      <td>1.0</td>\n",
       "      <td>8476.0</td>\n",
       "      <td>64.0</td>\n",
       "      <td>7357.0</td>\n",
       "      <td>16427</td>\n",
       "      <td>...</td>\n",
       "      <td>-542</td>\n",
       "      <td>0.0</td>\n",
       "      <td>-497.0</td>\n",
       "      <td>-497</td>\n",
       "      <td>28</td>\n",
       "      <td>-1413</td>\n",
       "      <td>-1413</td>\n",
       "      <td>-323</td>\n",
       "      <td>8510.0</td>\n",
       "      <td>-485.0</td>\n",
       "    </tr>\n",
       "    <tr>\n",
       "      <th>3</th>\n",
       "      <td>1400</td>\n",
       "      <td>35607F</td>\n",
       "      <td>2013</td>\n",
       "      <td>-0.373189</td>\n",
       "      <td>1447.0</td>\n",
       "      <td>0.0</td>\n",
       "      <td>1516.0</td>\n",
       "      <td>250.0</td>\n",
       "      <td>3792.0</td>\n",
       "      <td>5558</td>\n",
       "      <td>...</td>\n",
       "      <td>-892</td>\n",
       "      <td>222.0</td>\n",
       "      <td>-2318.0</td>\n",
       "      <td>-5095</td>\n",
       "      <td>0</td>\n",
       "      <td>-5095</td>\n",
       "      <td>-5095</td>\n",
       "      <td>-189</td>\n",
       "      <td>18660.0</td>\n",
       "      <td>NaN</td>\n",
       "    </tr>\n",
       "    <tr>\n",
       "      <th>4</th>\n",
       "      <td>4213</td>\n",
       "      <td>999779</td>\n",
       "      <td>2013</td>\n",
       "      <td>0.090696</td>\n",
       "      <td>16072.0</td>\n",
       "      <td>0.0</td>\n",
       "      <td>16505.0</td>\n",
       "      <td>0.0</td>\n",
       "      <td>32531.0</td>\n",
       "      <td>49555</td>\n",
       "      <td>...</td>\n",
       "      <td>-2956</td>\n",
       "      <td>0.0</td>\n",
       "      <td>-1784.0</td>\n",
       "      <td>-1784</td>\n",
       "      <td>0</td>\n",
       "      <td>-1784</td>\n",
       "      <td>-1784</td>\n",
       "      <td>-744</td>\n",
       "      <td>114290.0</td>\n",
       "      <td>-1746.0</td>\n",
       "    </tr>\n",
       "  </tbody>\n",
       "</table>\n",
       "<p>5 rows × 31 columns</p>\n",
       "</div>"
      ],
      "text/plain": [
       "     id  dscode  Year  LagExcessReturn      CASH  INVENTORIES  CURRENT_ASSETS  \\\n",
       "0   505  27947W  2013        -0.035987  107505.0          0.0        117515.0   \n",
       "1   778  29262P  2013         1.580063   10284.0          0.0         23615.0   \n",
       "2  1037  30463C  2013        -0.894205    5553.0          1.0          8476.0   \n",
       "3  1400  35607F  2013        -0.373189    1447.0          0.0          1516.0   \n",
       "4  4213  999779  2013         0.090696   16072.0          0.0         16505.0   \n",
       "\n",
       "   PROPERTY_PLANT_EQUIPMENT  TOTAL_INTANGIBLE  TOTAL_ASSETS  ...  \\\n",
       "0                     388.0             597.0        119712  ...   \n",
       "1                      72.0           11571.0         35257  ...   \n",
       "2                      64.0            7357.0         16427  ...   \n",
       "3                     250.0            3792.0          5558  ...   \n",
       "4                       0.0           32531.0         49555  ...   \n",
       "\n",
       "   OPERATING_INCOME  INTEREST_EXPENSE_ON_DEBT    EBIT  PRETAX_INCOME  \\\n",
       "0            -12566                       0.0 -9639.0          -9639   \n",
       "1             -1579                      77.0 -1043.0          -1120   \n",
       "2              -542                       0.0  -497.0           -497   \n",
       "3              -892                     222.0 -2318.0          -5095   \n",
       "4             -2956                       0.0 -1784.0          -1784   \n",
       "\n",
       "   INCOME_TAXES  NET_INCOME_BEFORE_EXTRA_ITEMS  \\\n",
       "0             0                          -9639   \n",
       "1          -174                           -946   \n",
       "2            28                          -1413   \n",
       "3             0                          -5095   \n",
       "4             0                          -1784   \n",
       "\n",
       "   NET_INCOME_AVAILABLE_TO_COMMON  OPERATING_CASH_FLOW  MARKET_VALUE   EBTDA  \n",
       "0                           -9639                -7468       43710.0 -9370.0  \n",
       "1                            -946                   97        5390.0 -1090.0  \n",
       "2                           -1413                 -323        8510.0  -485.0  \n",
       "3                           -5095                 -189       18660.0     NaN  \n",
       "4                           -1784                 -744      114290.0 -1746.0  \n",
       "\n",
       "[5 rows x 31 columns]"
      ]
     },
     "execution_count": 31,
     "metadata": {},
     "output_type": "execute_result"
    }
   ],
   "source": [
    "df.head()"
   ]
  },
  {
   "cell_type": "code",
   "execution_count": 32,
   "metadata": {},
   "outputs": [
    {
     "data": {
      "text/plain": [
       "(11943, 31)"
      ]
     },
     "execution_count": 32,
     "metadata": {},
     "output_type": "execute_result"
    }
   ],
   "source": [
    "df.shape"
   ]
  },
  {
   "cell_type": "code",
   "execution_count": 33,
   "metadata": {},
   "outputs": [
    {
     "name": "stdout",
     "output_type": "stream",
     "text": [
      "<class 'pandas.core.frame.DataFrame'>\n",
      "RangeIndex: 11943 entries, 0 to 11942\n",
      "Data columns (total 31 columns):\n",
      " #   Column                          Non-Null Count  Dtype  \n",
      "---  ------                          --------------  -----  \n",
      " 0   id                              11943 non-null  int64  \n",
      " 1   dscode                          11943 non-null  object \n",
      " 2   Year                            11943 non-null  int64  \n",
      " 3   LagExcessReturn                 11943 non-null  float64\n",
      " 4   CASH                            11943 non-null  float64\n",
      " 5   INVENTORIES                     11943 non-null  float64\n",
      " 6   CURRENT_ASSETS                  11943 non-null  float64\n",
      " 7   PROPERTY_PLANT_EQUIPMENT        11943 non-null  float64\n",
      " 8   TOTAL_INTANGIBLE                11943 non-null  float64\n",
      " 9   TOTAL_ASSETS                    11943 non-null  int64  \n",
      " 10  ACCOUNTS_PAYEABLE               11943 non-null  float64\n",
      " 11  CURRENT_LIABILITIES             11943 non-null  float64\n",
      " 12  WORKING_CAPITAL                 11943 non-null  float64\n",
      " 13  TOTAL_DEBT                      11943 non-null  int64  \n",
      " 14  TOTAL_LIABILITIES               11943 non-null  int64  \n",
      " 15  COMMON_EQUITY                   11943 non-null  int64  \n",
      " 16  TOTAL_SHAREHOLDERS_EQUITY       11943 non-null  int64  \n",
      " 17  TOTAL_EQUITY                    11943 non-null  int64  \n",
      " 18  NET_SALES                       11943 non-null  int64  \n",
      " 19  COGSD                           11943 non-null  float64\n",
      " 20  GROSS_INCOME                    11943 non-null  float64\n",
      " 21  OPERATING_INCOME                11943 non-null  int64  \n",
      " 22  INTEREST_EXPENSE_ON_DEBT        11943 non-null  float64\n",
      " 23  EBIT                            11943 non-null  float64\n",
      " 24  PRETAX_INCOME                   11943 non-null  int64  \n",
      " 25  INCOME_TAXES                    11943 non-null  int64  \n",
      " 26  NET_INCOME_BEFORE_EXTRA_ITEMS   11943 non-null  int64  \n",
      " 27  NET_INCOME_AVAILABLE_TO_COMMON  11943 non-null  int64  \n",
      " 28  OPERATING_CASH_FLOW             11943 non-null  int64  \n",
      " 29  MARKET_VALUE                    11943 non-null  float64\n",
      " 30  EBTDA                           10342 non-null  float64\n",
      "dtypes: float64(15), int64(15), object(1)\n",
      "memory usage: 2.8+ MB\n"
     ]
    }
   ],
   "source": [
    "df.info()"
   ]
  },
  {
   "cell_type": "markdown",
   "metadata": {},
   "source": [
    "![alt text](image.png)\n",
    "\n",
    "# Liquidity \n",
    "Current assets / Total assets <br>\n",
    "Cash and equivalent / current liabilities <br>\n",
    "Current assets / current liabilities <br>\n",
    "Sales / inventory <br>\n",
    "Current assets / sales<br>\n",
    "Current assets / total liabilities<br>\n",
    "\n",
    "# Solvency \n",
    "Total Liabilities / sales<br>\n",
    "Total liabilities / assets<br>\n",
    "The book value of equity / Total liabilities<br>\n",
    "Interest/EBITDA <br>\n",
    "\n",
    "\n",
    "# Market information \n",
    "Lag (excess return) <br>\n",
    "Market capital <br>\n",
    "Market value / Total Equity <br>\n",
    "\n",
    "\n",
    "# Profitability \n",
    "Net income / Total assets <br>\n",
    "Net income / Total Equity <br>\n",
    "\n",
    "# Asset utilisation \n",
    "Working capital / sales <br>\n",
    "Quick assets / sales <br>\n",
    "\n",
    "# Cash flow \n",
    "Operating cash flow / Total liabilities<br>\n",
    "Operating cash flow / Total assets<br>\n",
    "\n",
    "# Making the final ratios with Python"
   ]
  },
  {
   "cell_type": "code",
   "execution_count": 34,
   "metadata": {},
   "outputs": [
    {
     "data": {
      "text/plain": [
       "Index(['id', 'dscode', 'Year', 'LagExcessReturn', 'CASH', 'INVENTORIES',\n",
       "       'CURRENT_ASSETS', 'PROPERTY_PLANT_EQUIPMENT', 'TOTAL_INTANGIBLE',\n",
       "       'TOTAL_ASSETS', 'ACCOUNTS_PAYEABLE', 'CURRENT_LIABILITIES',\n",
       "       'WORKING_CAPITAL', 'TOTAL_DEBT', 'TOTAL_LIABILITIES', 'COMMON_EQUITY',\n",
       "       'TOTAL_SHAREHOLDERS_EQUITY', 'TOTAL_EQUITY', 'NET_SALES', 'COGSD',\n",
       "       'GROSS_INCOME', 'OPERATING_INCOME', 'INTEREST_EXPENSE_ON_DEBT', 'EBIT',\n",
       "       'PRETAX_INCOME', 'INCOME_TAXES', 'NET_INCOME_BEFORE_EXTRA_ITEMS',\n",
       "       'NET_INCOME_AVAILABLE_TO_COMMON', 'OPERATING_CASH_FLOW', 'MARKET_VALUE',\n",
       "       'EBTDA'],\n",
       "      dtype='object')"
      ]
     },
     "execution_count": 34,
     "metadata": {},
     "output_type": "execute_result"
    }
   ],
   "source": [
    "# Exploring the columns of the dataframe\n",
    "\n",
    "df.columns"
   ]
  },
  {
   "cell_type": "code",
   "execution_count": 35,
   "metadata": {},
   "outputs": [],
   "source": [
    "# Creating financial ratios using lambda functions\n",
    "\n",
    "# Liquidity (l1) =  Current assets / Total assets \n",
    "\n",
    "df['l1'] = df.apply(lambda x: x['CURRENT_ASSETS'] / x['TOTAL_ASSETS'], axis=1)\n",
    "\n"
   ]
  },
  {
   "cell_type": "code",
   "execution_count": 36,
   "metadata": {},
   "outputs": [],
   "source": [
    "# Liquidity  (l2) = Cash and equivalent / current liabilities\n",
    "\n",
    "df['l2'] = df.apply(lambda x: x['CASH'] / x['CURRENT_LIABILITIES'], axis=1)"
   ]
  },
  {
   "cell_type": "code",
   "execution_count": 37,
   "metadata": {},
   "outputs": [],
   "source": [
    "# Liquidity (l3) = Current assets / current liabilities\n",
    "\n",
    "df['l3'] = df.apply(lambda x: x['CURRENT_ASSETS'] / x['CURRENT_LIABILITIES'], axis=1)"
   ]
  },
  {
   "cell_type": "code",
   "execution_count": 38,
   "metadata": {},
   "outputs": [],
   "source": [
    "# Liquidity (l4) = Sales / inventory\n",
    "\n",
    "# on the first try, I got an error because of division by zero. I had to add a condition to check if the denominator is zero.\n",
    "df['l4'] = df.apply(lambda x: x['NET_SALES'] / x['INVENTORIES'] if x['INVENTORIES'] != 0 else 0, axis=1)\n"
   ]
  },
  {
   "cell_type": "code",
   "execution_count": 39,
   "metadata": {},
   "outputs": [],
   "source": [
    "# Liquidity (l5) = Current assets / sales\n",
    "\n",
    "df['l5'] = df.apply(lambda x: x['CURRENT_ASSETS'] / x['NET_SALES'] if x['NET_SALES'] != 0 else 0, axis=1)"
   ]
  },
  {
   "cell_type": "code",
   "execution_count": 40,
   "metadata": {},
   "outputs": [],
   "source": [
    "# Liquidity (l6) = Current liabilities / sales\n",
    "\n",
    "df['l6'] = df.apply(lambda x: x['CURRENT_LIABILITIES'] / x['NET_SALES'] if x['NET_SALES'] != 0 else 0, axis=1)"
   ]
  },
  {
   "cell_type": "code",
   "execution_count": 41,
   "metadata": {},
   "outputs": [],
   "source": [
    "# Solvency (s1) = Total Liabilities / sales\n",
    "\n",
    "df['s1'] = df.apply(lambda x: x['TOTAL_LIABILITIES'] / x['NET_SALES'] if x['NET_SALES'] != 0 else 0, axis=1)\n",
    "\n",
    "# Solvency (s2) = Total liabilities / assets\n",
    "\n",
    "df['s2'] = df.apply(lambda x: x['TOTAL_LIABILITIES'] / x['TOTAL_ASSETS'] if x['TOTAL_ASSETS'] != 0 else 0, axis=1)\n",
    "\n",
    "# Solvency (s3) = The book value of equity / Total liabilities\n",
    "\n",
    "df['s3'] = df.apply(lambda x: x['TOTAL_SHAREHOLDERS_EQUITY'] / x['TOTAL_LIABILITIES'] if x['TOTAL_LIABILITIES'] != 0 else 0, axis=1)\n",
    "\n",
    "# Solvency (s4) = Interest/EBITDA\n",
    "\n",
    "df['s4'] = df.apply(lambda x: x['INTEREST_EXPENSE_ON_DEBT'] / x['EBTDA'] if x['EBTDA'] != 0 else 0, axis=1)"
   ]
  },
  {
   "cell_type": "code",
   "execution_count": 42,
   "metadata": {},
   "outputs": [],
   "source": [
    "# Market information (m1) = Market value / Total Equity\n",
    "\n",
    "df['m1'] = df.apply(lambda x: x['MARKET_VALUE'] / x['TOTAL_EQUITY'] if x['TOTAL_EQUITY'] != 0 else 0, axis=1)\n",
    "\n"
   ]
  },
  {
   "cell_type": "code",
   "execution_count": 43,
   "metadata": {},
   "outputs": [],
   "source": [
    "# Profitability (p1) = Net income / Total assets\n",
    "\n",
    "df['p1'] = df.apply(lambda x: x['NET_INCOME_AVAILABLE_TO_COMMON'] / x['TOTAL_ASSETS'] if x['TOTAL_ASSETS'] != 0 else 0, axis=1)\n",
    "\n",
    "# Profitability (p2) = Net income / Total Equity\n",
    "\n",
    "df['p2'] = df.apply(lambda x: x['NET_INCOME_AVAILABLE_TO_COMMON'] / x['TOTAL_EQUITY'] if x['TOTAL_EQUITY'] != 0 else 0, axis=1)\n"
   ]
  },
  {
   "cell_type": "code",
   "execution_count": 44,
   "metadata": {},
   "outputs": [],
   "source": [
    "# Asset utilisation (a1) = Working capital / sales\n",
    "\n",
    "df['a1'] = df.apply(lambda x: x['WORKING_CAPITAL'] / x['NET_SALES'] if x['NET_SALES'] != 0 else 0, axis=1)\n",
    "\n",
    "# Asset utilisation (a2) = Quick assets / sales\n",
    "\n",
    "df['a2'] = df.apply(lambda x: x['CASH'] / x['NET_SALES'] if x['NET_SALES'] != 0 else 0, axis=1)\n"
   ]
  },
  {
   "cell_type": "code",
   "execution_count": 45,
   "metadata": {},
   "outputs": [],
   "source": [
    "# Cash flow (c1) = Operating cash flow / Total liabilities\n",
    "\n",
    "df['c1'] = df.apply(lambda x: x['OPERATING_CASH_FLOW'] / x['TOTAL_LIABILITIES'] if x['TOTAL_LIABILITIES'] != 0 else 0, axis=1)\n",
    "\n",
    "# Cash flow (c2) = Operating cash flow / Total assets\n",
    "\n",
    "df['c2'] = df.apply(lambda x: x['OPERATING_CASH_FLOW'] / x['TOTAL_ASSETS'] if x['TOTAL_ASSETS'] != 0 else 0, axis=1)\n"
   ]
  },
  {
   "cell_type": "code",
   "execution_count": 46,
   "metadata": {},
   "outputs": [
    {
     "data": {
      "text/plain": [
       "(11943, 48)"
      ]
     },
     "execution_count": 46,
     "metadata": {},
     "output_type": "execute_result"
    }
   ],
   "source": [
    "df.shape"
   ]
  },
  {
   "cell_type": "code",
   "execution_count": null,
   "metadata": {},
   "outputs": [],
   "source": []
  },
  {
   "cell_type": "code",
   "execution_count": null,
   "metadata": {},
   "outputs": [],
   "source": []
  },
  {
   "cell_type": "code",
   "execution_count": null,
   "metadata": {},
   "outputs": [],
   "source": []
  }
 ],
 "metadata": {
  "kernelspec": {
   "display_name": "Python 3",
   "language": "python",
   "name": "python3"
  },
  "language_info": {
   "codemirror_mode": {
    "name": "ipython",
    "version": 3
   },
   "file_extension": ".py",
   "mimetype": "text/x-python",
   "name": "python",
   "nbconvert_exporter": "python",
   "pygments_lexer": "ipython3",
   "version": "3.11.9"
  }
 },
 "nbformat": 4,
 "nbformat_minor": 2
}
